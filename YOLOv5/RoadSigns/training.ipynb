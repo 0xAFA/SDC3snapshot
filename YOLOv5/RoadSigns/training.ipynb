{
 "cells": [
  {
   "cell_type": "code",
   "execution_count": 2,
   "metadata": {},
   "outputs": [],
   "source": [
    "import torch\n",
    "from IPython.display import Image  # for displaying images\n",
    "import os \n",
    "import random\n",
    "import shutil\n",
    "from sklearn.model_selection import train_test_split\n",
    "import xml.etree.ElementTree as ET\n",
    "from xml.dom import minidom\n",
    "from tqdm import tqdm\n",
    "from PIL import Image, ImageDraw\n",
    "import numpy as np\n",
    "import matplotlib.pyplot as plt\n",
    "\n",
    "random.seed(108)"
   ]
  },
  {
   "attachments": {},
   "cell_type": "markdown",
   "metadata": {},
   "source": [
    "Primero, preparar los archivos siguiendo annotations2yolo.ipynb"
   ]
  },
  {
   "attachments": {},
   "cell_type": "markdown",
   "metadata": {},
   "source": [
    "Para entrenar:\n",
    "- crear archivo .yaml dentro de la carpeta data, en este caso ver road-sign-data.yaml\n",
    "- crear también hyp.scratch.yaml, archivo con los hiperparámetros\n",
    "- moverse a la carpeta\n",
    "- ejecutar python train.py --img 640 --cfg yolov5s.yaml --hyp hyp.scratch.yaml --batch 32 --epochs 100 --data road_sign_data.yaml --weights yolov5s.pt --workers 24 --name yolo_road_det"
   ]
  },
  {
   "attachments": {},
   "cell_type": "markdown",
   "metadata": {},
   "source": [
    "Para hacer inferencia (en este caso con las imágenes de test):\n",
    "python detect.py --source RoadSigns/images/test/ --weights runs/train/yolo_road_det3/weights/best.pt --conf 0.25 --name yolo_road_det3\n",
    "\n",
    "Y para evaluación:\n",
    "python test.py --weights runs/train/yolo_road_det/weights/best.pt --data road_sign_data.yaml --task test --name yolo_det"
   ]
  }
 ],
 "metadata": {
  "kernelspec": {
   "display_name": "YOLOv5",
   "language": "python",
   "name": "yolov5"
  },
  "language_info": {
   "codemirror_mode": {
    "name": "ipython",
    "version": 3
   },
   "file_extension": ".py",
   "mimetype": "text/x-python",
   "name": "python",
   "nbconvert_exporter": "python",
   "pygments_lexer": "ipython3",
   "version": "3.10.4"
  },
  "orig_nbformat": 4,
  "vscode": {
   "interpreter": {
    "hash": "e2ad3a26d86eb54ff421ef59107701d39e527f3370099fee424c33d9c3b1c725"
   }
  }
 },
 "nbformat": 4,
 "nbformat_minor": 2
}
