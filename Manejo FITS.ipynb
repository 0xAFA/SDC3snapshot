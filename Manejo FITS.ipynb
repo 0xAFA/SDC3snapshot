{
 "cells": [
  {
   "attachments": {},
   "cell_type": "markdown",
   "metadata": {},
   "source": [
    "Fuentes:\n",
    "\n",
    "* FITS Primer: https://fits.gsfc.nasa.gov/fits_primer.html\n",
    "* Especificación del formato: https://www.loc.gov/preservation/digital/formats/fdd/fdd000317.shtml\n",
    "* Guía detallada: https://fits.gsfc.nasa.gov/users_guide/usersguide.pdf\n",
    "* Manejo de FITS con astropy: https://het.as.utexas.edu/HET/Software/Astropy-1.0/io/fits/index.html"
   ]
  },
  {
   "attachments": {},
   "cell_type": "markdown",
   "metadata": {},
   "source": [
    "Un archivo FITS está compuesto por un conjunto de HDUs (Header/Data Unit). La primera HDU se llama Primary, y consiste en un array de entre 1 y 999 dimensiones, en el que cada elemento es un número entero o de punto flotante. Se suele utilizar para representar imágenes (2 dimensiones) o \"cubos\" (3 dimensiones). Las HDU adicionales, llamadas \"extensiones\", pueden contener imágenes o tablas."
   ]
  },
  {
   "attachments": {},
   "cell_type": "markdown",
   "metadata": {},
   "source": [
    "Una HDU comienza con el header, un bloque de metadatos en texto plano. Por ejemplo:\n",
    "\n",
    "```\n",
    "SIMPLE  =                    T / file conforms to FITS standard\n",
    "BITPIX  =                   16 / number of bits per data pixel\n",
    "NAXIS   =                    2 / number of data axes\n",
    "NAXIS1  =                  440 / length of data axis 1\n",
    "NAXIS2  =                  300 / length of data axis 2\n",
    "END\n",
    "```\n",
    "\n",
    "Este bloque termina con la palabra clave END, y a continuación se incluyen los datos en formato binario."
   ]
  },
  {
   "cell_type": "code",
   "execution_count": 2,
   "metadata": {},
   "outputs": [
    {
     "name": "stdout",
     "output_type": "stream",
     "text": [
      "Filename: SDC2Data/HubbleFOC.fits\n",
      "No.    Name      Ver    Type      Cards   Dimensions   Format\n",
      "  0  PRIMARY       1 PrimaryHDU     134   (1024, 1024)   float32   \n",
      "  1  x38i0101t.c0h.tab    1 TableHDU        82   1R x 18C   [D25.16, D25.16, E15.7, E15.7, E15.7, E15.7, E15.7, E15.7, E15.7, E15.7, A4, E15.7, I11, I11, D25.16, D25.16, A8, A8]   \n"
     ]
    }
   ],
   "source": [
    "from astropy.io import fits\n",
    "hdulist = fits.open('SDC2Data/HubbleFOC.fits')\n",
    "hdulist.info()"
   ]
  },
  {
   "cell_type": "code",
   "execution_count": 4,
   "metadata": {},
   "outputs": [
    {
     "name": "stderr",
     "output_type": "stream",
     "text": [
      "WARNING: VerifyWarning: Verification reported errors: [astropy.io.fits.verify]\n",
      "WARNING: VerifyWarning: Card 'PHOTMODE' is not FITS standard (invalid value string: \"'FOC F/48 COSTAR F220W F275W X48ZLRG'de\").  Fixed 'PHOTMODE' card to meet the FITS standard. [astropy.io.fits.verify]\n",
      "WARNING: VerifyWarning: Note: astropy.io.fits uses zero-based indexing.\n",
      " [astropy.io.fits.verify]\n"
     ]
    },
    {
     "data": {
      "text/plain": [
       "SIMPLE  =                    T / Standard FITS format                           \n",
       "BITPIX  =                  -32 / 32 bit IEEE floating point numbers             \n",
       "NAXIS   =                    2 / Number of axes                                 \n",
       "NAXIS1  =                 1024 /                                                \n",
       "NAXIS2  =                 1024 /                                                \n",
       "EXTEND  =                    T / There may be standard extensions               \n",
       "OPSIZE  =                  768 / PSIZE of original image                        \n",
       "ORIGIN  = 'ST-DADS '           / Institution that originated the FITS file      \n",
       "FITSDATE= ' 3/07/96'           / Date FITS file was created                     \n",
       "FILENAME= 'x38i0101t_cvt.c0h'  / Original GEIS header file name with _cvt       \n",
       "ODATTYPE= 'FLOATING'           / Original datatype                              \n",
       "SDASMGNU=                    1 / GCOUNT of original image                       \n",
       "DADSFILE= 'X38I0101T.C0F'      /                                                \n",
       "DADSCLAS= 'CAL     '           /                                                \n",
       "DADSDATE= '03 Jul 1996 13:02:41' /                                              \n",
       "CRVAL1  =      182.63575416670 /                                                \n",
       "CRVAL2  =      39.405675000000 /                                                \n",
       "CRPIX1  =      511.50000000000 /                                                \n",
       "CRPIX2  =      513.00000000000 /                                                \n",
       "CD1_1   = -4.5933261390019E-06 /                                                \n",
       "CD1_2   = -6.4628588916094E-06 /                                                \n",
       "CD2_1   = -5.9688650253520E-06 /                                                \n",
       "CD2_2   =  4.9734771891963E-06 /                                                \n",
       "DATAMIN =     -5.6454391479492 /                                                \n",
       "DATAMAX =      83.697998046875 /                                                \n",
       "MIR_REVR=                    T /                                                \n",
       "ORIENTAT=     -52.420009613037 /                                                \n",
       "FILLCNT =                    0 /                                                \n",
       "ERRCNT  =                    0 /                                                \n",
       "FPKTTIME=      50266.589604322 /                                                \n",
       "LPKTTIME=      50266.589660746 /                                                \n",
       "CTYPE1  = 'RA---TAN'           /                                                \n",
       "CTYPE2  = 'DEC--TAN'           /                                                \n",
       "                                                                                \n",
       "        / GROUP PARAMETERS: OSS                                                 \n",
       "                                                                                \n",
       "        / FOC DATA DESCRIPTOR KEYWORDS                                          \n",
       "INSTRUME= 'FOC               ' / instrument in use                              \n",
       "ROOTNAME= 'X38I0101T         ' / rootname of the observation set                \n",
       "FILETYPE= 'SCI               ' / shp, sdq, udl, sci                             \n",
       "                                                                                \n",
       "        / CALIBRATION FLAGS AND INDICATORS                                      \n",
       "KXDEPLOY=                    T / COSTAR deployed for FOC (T or F)               \n",
       "OPTCRLY = 'F48               ' / optical relay:  F48, F96                       \n",
       "CAMMODE = 'NOTUSED           ' / coronographic apodizer mask: INBEAM, NOTUSED   \n",
       "F_RATIO =                   75 / focal ratio                                    \n",
       "SMMMODE = 'NOTUSED           ' / spectro. mirror mechanism: INBEAM, NOTUSED     \n",
       "SHTMODE = 'NOTUSED           ' / shutter mode: INBEAM, NOTUSED                  \n",
       "LEDMODE = 'NOTUSED           ' / led calibration status: ACTIVE, NOTUSED        \n",
       "PXFORMT = 'ZOOM              ' / format of the image:  NORMAL, ZOOM             \n",
       "OPTELT1 =                    7 / filter element, wheel 1 f48: (0-7), f96: (0-11)\n",
       "OPTELT2 =                    5 / filter element, wheel 2 f48: (0-7), f96: (0-11)\n",
       "OPTELT3 =                    0 / filter element, wheel 3 f48: (0),   f96: (0-11)\n",
       "OPTELT4 =                    0 / filter element, wheel 4 f48: (0),   f96: (0-11)\n",
       "FILTNAM1= 'F220W             ' / filter element name for wheel 1                \n",
       "FILTNAM2= 'F275W             ' / filter element name for wheel 2                \n",
       "FILTNAM3= '                  ' / filter element name for wheel 3                \n",
       "FILTNAM4= '                  ' / filter element name for wheel 4                \n",
       "SAMPOFF =                  0.0 / sample offset (0.0-1023.75)                    \n",
       "LINEOFF =                  0.0 / line offset (0.0-1023.75)                      \n",
       "SAMPPLN =                  512 / samples per line (64, 128, 256, or 512)        \n",
       "LINEPFM =                 1024 / lines per frame (64, 128, 256, 512, or 1024)   \n",
       "                                                                                \n",
       "        / CALIBRATION REFERENCE FILES                                           \n",
       "GRAPHTAB= 'mtab$g1q1547nm.tmg' / the HST graph table                            \n",
       "COMPTAB = 'mtab$g1q1547cm.tmc' / the HST components table                       \n",
       "UNITAB  = 'xtab$f7d1044bx.cxu' / table of reciprocal flat field filenames       \n",
       "BACHFILE= 'xref$91b13148x.r0h' / background reference header file               \n",
       "ITFHFILE= 'xref$91b13138x.r1h' / itf reference header file                      \n",
       "BLMHFILE= 'xref$d8p14556x.r7h' / blemish header file                            \n",
       "UNIHFILE= 'N/A               ' / uniform de reference header file               \n",
       "SDEHFILE= 'N/A               ' / sde reference header file                      \n",
       "GEOHFILE= 'xref$c860927ax.r5h' / geometric reference header file                \n",
       "                                                                                \n",
       "        / CALIBRATION SWITCHES: perform,omit,complete                           \n",
       "BACCORR = 'OMIT              ' / background subtraction correction              \n",
       "ITFCORR = 'OMIT              ' / intensity transfer function correction         \n",
       "PXLCORR = 'COMPLETE'           / split zoom-format pixels                       \n",
       "UNICORR = 'PERFORM           ' / uniform de correction                          \n",
       "WAVCORR = 'COMPLETE'           / compute photometric parameters                 \n",
       "GEOCORR = 'COMPLETE'           / geometric correction                           \n",
       "SDECORR = 'OMIT              ' / spectrograph de correction                     \n",
       "                                                                                \n",
       "        / CALIBRATION KEYWORDS                                                  \n",
       "DNFORMT =                    8 / bits in each data number (8/16)                \n",
       "GEODEFV =                  0.0 / geo DN value for areas outside sci image       \n",
       "                                                                                \n",
       "        / STATISTICAL KEYWORDS                                                  \n",
       "DATE    = '03/07/96          ' / date this file originated (dd/mm/yy)           \n",
       "PODPSFF = '0                 ' / 0=(no podps fill), 1=(podps fill present)      \n",
       "STDCFFF = '0                 ' / 0=(no st dcf fill); 1=(st dcf fill present)    \n",
       "STDCFFP = '0000              ' / st dcf fill pattern (hex)                      \n",
       "                                                                                \n",
       "        / FOC INSTRUMENT DESCRIPTOR KEYWORDS                                    \n",
       "LEDCOLOR= '                  ' / LED color (a color, blank , NONE or ERROR)     \n",
       "                                                                                \n",
       "        / FOC PHOTOMETRY KEYWORDS                                               \n",
       "PHOTMODE= '''FOC F '           / 48 COSTAR F220W F275W X48ZLRG'de               \n",
       "PHOTFLAM=         1.442126E-16 / Inverse Sensitivity                            \n",
       "PHOTZPT =                -21.1 / ST magnitude zero point                        \n",
       "PHOTPLAM=             2450.676 / Pivot wavelength                               \n",
       "PHOTBW  =             234.9322 / RMS Bandwidth of the Filter and Detector       \n",
       "                                                                                \n",
       "        / EXPOSURE INFORMATION                                                  \n",
       "EQUINOX =               2000.0 / equinox of the celestial coordinate system     \n",
       "SUNANGLE=       68.75218200684 / angle between sun and V1 axis (deg)            \n",
       "MOONANGL=       122.4902877808 / angle between moon and V1 axis (deg)           \n",
       "SUN_ALT =       69.75344848633 / altitude of the sun above Earth's limb (deg)   \n",
       "FGSLOCK = 'FINE              ' / commanded FGS lock (FINE,COARSE,GYROS,UNKNOWN) \n",
       "                                                                                \n",
       "DATE-OBS= ' 2/07/96          ' / UT date of start of observation (dd/mm/yy)     \n",
       "TIME-OBS= '14:03:54          ' / UT time of start of observation (hh:mm:ss)     \n",
       "EXPSTART=       50266.58605108 / exposure start time (Modified Julian Date)     \n",
       "EXPEND  =       50266.58949003 / exposure end time (Modified Julian Date)       \n",
       "EXPTIME =       297.1250000000 / exposure duration (seconds)--calculated        \n",
       "EXPFLAG = 'NORMAL            ' / Exposure interruption indicator                \n",
       "                                                                                \n",
       "        / TARGET & PROPOSAL ID                                                  \n",
       "TARGNAME= 'NGC4151           ' / proposer's target name                         \n",
       "RA_TARG =  0.1826357541667E+03 / right ascension of the target (deg) (J2000)    \n",
       "DEC_TARG=  0.3940567500000E+02 / declination of the target (deg) (J2000)        \n",
       "                                                                                \n",
       "PROPOSID=                06308 / PEP proposal identifier                        \n",
       "PEP_EXPO= '01-001            ' / PEP exposure identifier including sequence     \n",
       "LINENUM = '1.001             ' / PEP proposal line number                       \n",
       "SEQLINE = '                  ' / PEP line number of defined sequence            \n",
       "SEQNAME = '                  ' / PEP define/use sequence name                   \n",
       "                                                                                \n",
       "HISTORY   The following throughput tables were used: crotacomp$hst_ota_005.tab, \n",
       "HISTORY   crfoccomp$foc_48_m1m2_001.tab, crfoccomp$foc_48_rflpri_002.tab,       \n",
       "HISTORY   crfoccomp$foc_48_rflsec_002.tab, crfoccomp$foc_48_f220w_002.tab,      \n",
       "HISTORY   crfoccomp$foc_48_f275w_002.tab, crfoccomp$foc_48_rflfocus_002.tab,    \n",
       "HISTORY   crfoccomp$foc_48_zlrg_001.tab, crfoccomp$foc_48_dqe_002.tab           \n",
       "HISTORY   GEOHFILE=xref$c860927ax.r5h   GEOCORR=COMPLETE                        "
      ]
     },
     "execution_count": 4,
     "metadata": {},
     "output_type": "execute_result"
    }
   ],
   "source": [
    "hdulist[0].header"
   ]
  },
  {
   "attachments": {},
   "cell_type": "markdown",
   "metadata": {},
   "source": [
    "Astropy carga los datos de un HDU de imagen como un array de numpy."
   ]
  },
  {
   "cell_type": "code",
   "execution_count": 6,
   "metadata": {},
   "outputs": [
    {
     "data": {
      "text/plain": [
       "array([[0., 0., 0., ..., 0., 0., 0.],\n",
       "       [0., 0., 0., ..., 0., 0., 0.],\n",
       "       [0., 0., 0., ..., 0., 0., 0.],\n",
       "       ...,\n",
       "       [0., 0., 0., ..., 0., 0., 0.],\n",
       "       [0., 0., 0., ..., 0., 0., 0.],\n",
       "       [0., 0., 0., ..., 0., 0., 0.]], dtype=float32)"
      ]
     },
     "execution_count": 6,
     "metadata": {},
     "output_type": "execute_result"
    }
   ],
   "source": [
    "img = hdulist[0].data\n",
    "img"
   ]
  },
  {
   "cell_type": "code",
   "execution_count": 14,
   "metadata": {},
   "outputs": [
    {
     "data": {
      "image/png": "[encoded data removed]",
      "text/plain": [
       "<Figure size 432x288 with 1 Axes>"
      ]
     },
     "metadata": {
      "needs_background": "light"
     },
     "output_type": "display_data"
    }
   ],
   "source": [
    "import matplotlib.pyplot as plt\n",
    "\n",
    "fig = plt.imshow(img)\n",
    "\n",
    "plt.show()"
   ]
  }
 ],
 "metadata": {
  "kernelspec": {
   "display_name": "Python 3",
   "language": "python",
   "name": "python3"
  },
  "language_info": {
   "codemirror_mode": {
    "name": "ipython",
    "version": 3
   },
   "file_extension": ".py",
   "mimetype": "text/x-python",
   "name": "python",
   "nbconvert_exporter": "python",
   "pygments_lexer": "ipython3",
   "version": "3.10.4"
  },
  "orig_nbformat": 4,
  "vscode": {
   "interpreter": {
    "hash": "e2ad3a26d86eb54ff421ef59107701d39e527f3370099fee424c33d9c3b1c725"
   }
  }
 },
 "nbformat": 4,
 "nbformat_minor": 2
}
